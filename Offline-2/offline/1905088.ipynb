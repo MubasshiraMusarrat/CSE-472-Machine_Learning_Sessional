{
 "cells": [
  {
   "cell_type": "code",
   "execution_count": 1,
   "metadata": {},
   "outputs": [],
   "source": [
    "import pandas as pd\n",
    "import numpy as np\n",
    "from sklearn.feature_selection import mutual_info_classif\n",
    "from sklearn.preprocessing import LabelEncoder\n",
    "from sklearn.preprocessing import MinMaxScaler\n",
    "from sklearn.preprocessing import StandardScaler\n",
    "from sklearn.model_selection import train_test_split\n",
    "from sklearn.utils import resample\n",
    "from sklearn.metrics import accuracy_score, recall_score, precision_score, f1_score, roc_auc_score, average_precision_score\n",
    "import seaborn as sns\n",
    "import matplotlib.pyplot as plt\n",
    "import concurrent.futures"
   ]
  },
  {
   "cell_type": "markdown",
   "metadata": {},
   "source": [
    "# Preprocessing"
   ]
  },
  {
   "cell_type": "code",
   "execution_count": 2,
   "metadata": {},
   "outputs": [],
   "source": [
    "pd.set_option('display.max_columns', None)\n",
    "numerics = ['int16', 'int32', 'int64', 'float16', 'float32', 'float64']"
   ]
  },
  {
   "cell_type": "markdown",
   "metadata": {},
   "source": [
    "### Scaling"
   ]
  },
  {
   "cell_type": "code",
   "execution_count": 3,
   "metadata": {},
   "outputs": [],
   "source": [
    "def minmax_scaling(numerical_cols):\n",
    "    scaler = MinMaxScaler()\n",
    "    scaled = scaler.fit_transform(numerical_cols)\n",
    "    return scaled"
   ]
  },
  {
   "cell_type": "code",
   "execution_count": 4,
   "metadata": {},
   "outputs": [],
   "source": [
    "def standard_scaling(numerical_cols):\n",
    "    scaler = StandardScaler()\n",
    "    scaled = scaler.fit_transform(numerical_cols)\n",
    "    return scaled"
   ]
  },
  {
   "cell_type": "markdown",
   "metadata": {},
   "source": [
    "### Feature Selection"
   ]
  },
  {
   "cell_type": "code",
   "execution_count": 5,
   "metadata": {},
   "outputs": [],
   "source": [
    "def corelation(feature, target):\n",
    "    target = target.iloc[:, 0]\n",
    "    c = feature.corrwith(target)\n",
    "    # print(c.sort_values(ascending=False))\n",
    "    top_features = c.abs().sort_values(ascending=False).head(20).index\n",
    "    return top_features"
   ]
  },
  {
   "cell_type": "code",
   "execution_count": 6,
   "metadata": {},
   "outputs": [],
   "source": [
    "def information_gain(feature, target):\n",
    "    target = target.iloc[:, 0]\n",
    "    ig = mutual_info_classif(feature, target)\n",
    "    ig = pd.Series(ig, index=feature.columns)\n",
    "    ig = ig.sort_values(ascending=False)\n",
    "    # print(ig)\n",
    "    top_features = ig.head(20).index\n",
    "    return top_features"
   ]
  },
  {
   "cell_type": "markdown",
   "metadata": {},
   "source": [
    "### Teleco-customer-churn Data Preprocessing"
   ]
  },
  {
   "cell_type": "code",
   "execution_count": 7,
   "metadata": {},
   "outputs": [],
   "source": [
    "def telecomPreprocessing(df):\n",
    "    df.drop('customerID', axis=1, inplace=True)\n",
    "    # print(features.dtypes)\n",
    "    df['TotalCharges'] = pd.to_numeric(df['TotalCharges'], errors='coerce')\n",
    "    # print(df.isnull().sum())\n",
    "    df['TotalCharges'] = df['TotalCharges'].fillna(df['TotalCharges'].mean())\n",
    "    # print(df.isnull().sum())\n",
    "    # print(\"No of duplicated rows: \",df.duplicated().sum())\n",
    "    df.drop_duplicates(inplace=True)\n",
    "    df.reset_index(drop=True, inplace=True)\n",
    "    features = df.drop('Churn', axis=1)\n",
    "    target = df['Churn']\n",
    "    object_columns = features.select_dtypes(include=['object', 'category']).columns\n",
    "    numeric_columns = features.select_dtypes(include=numerics).columns\n",
    "    features[numeric_columns] = features[numeric_columns].astype('float64')\n",
    "    features = pd.get_dummies(features, columns=object_columns, drop_first=True, dtype='int64')\n",
    "    # print(features.shape)\n",
    "    encoder = LabelEncoder()\n",
    "    target_encoded = encoder.fit_transform(target)\n",
    "    target = pd.DataFrame(target_encoded, columns=['Churn'], dtype='int64')\n",
    "    # scaled_columns = minmax_scaling(features[numeric_columns])\n",
    "    scaled_columns = standard_scaling(features[numeric_columns])\n",
    "    features.loc[:, numeric_columns] = scaled_columns\n",
    "    # print(features.head())\n",
    "    features = features.loc[:, features.nunique() > 1]\n",
    "    # print(features.shape)\n",
    "    top_features = corelation(features, target)\n",
    "    # top_features = information_gain(features, target)\n",
    "    top_features_df = pd.DataFrame(features[top_features])\n",
    "    # df = pd.concat([top_features_df, target], axis=1)\n",
    "    df = pd.concat([features, target], axis=1)\n",
    "    # print(df.shape)\n",
    "    return df\n",
    "    "
   ]
  },
  {
   "cell_type": "markdown",
   "metadata": {},
   "source": [
    "### Adults Data Preprocessing"
   ]
  },
  {
   "cell_type": "code",
   "execution_count": 8,
   "metadata": {},
   "outputs": [],
   "source": [
    "def adultsPreprocessing(df):\n",
    "    df.columns = ['age', 'workclass', 'fnlwgt', 'education', 'education-num', 'marital-status', 'occupation', 'relationship', 'race', 'sex', 'capital-gain', 'capital-loss', 'hours-per-week', 'native-country', 'income']\n",
    "    df = df.map(lambda x: x.strip() if isinstance(x, str) else x)\n",
    "    df.replace(['?', ''], np.nan, inplace=True)\n",
    "    df['income'] = df['income'].str.strip().str.replace('.', '', regex=False)\n",
    "    # print(df.isnull().sum())\n",
    "    df.dropna(subset=['income'], inplace=True)\n",
    "    # print(df.dtypes)\n",
    "    for col in df.columns:\n",
    "        if pd.api.types.is_numeric_dtype(df[col]):\n",
    "            df[col] = pd.to_numeric(df[col], errors='coerce')\n",
    "            df[col] = df[col].fillna(df[col].mean())\n",
    "        else:\n",
    "            df[col] = df[col].fillna(df[col].mode()[0])\n",
    "    # print(df.isnull().sum())\n",
    "    # print(df.duplicated().sum())\n",
    "    df.drop_duplicates(inplace=True)\n",
    "    df.reset_index(drop=True, inplace=True)\n",
    "    features = df.drop('income', axis=1)\n",
    "    target = df['income']\n",
    "    # print(target.unique())\n",
    "    object_columns = features.select_dtypes(include=['object', 'category']).columns\n",
    "    numeric_columns = features.select_dtypes(include=numerics).columns\n",
    "    features[numeric_columns] = features[numeric_columns].astype('float64')\n",
    "    features = pd.get_dummies(features, columns=object_columns, drop_first=True, dtype='int64')\n",
    "    # print(features.shape)\n",
    "    encoder = LabelEncoder()\n",
    "    target_encoded = encoder.fit_transform(target)\n",
    "    target = pd.DataFrame(target_encoded, columns=['income'], dtype='int64')\n",
    "    # scaled_columns = minmax_scaling(features[numeric_columns])\n",
    "    scaled_columns = standard_scaling(features[numeric_columns])\n",
    "    features.loc[:, numeric_columns] = scaled_columns\n",
    "    # print(features.head())\n",
    "    features = features.loc[:, features.nunique() > 1]\n",
    "    # print(features.shape)\n",
    "    # top_features = corelation(features, target)\n",
    "    # top_features = information_gain(features, target)\n",
    "    # top_features_df = pd.DataFrame(features[top_features])\n",
    "    # df = pd.concat([top_features_df, target], axis=1)\n",
    "    df = pd.concat([features, target], axis=1)\n",
    "    return df\n",
    "    "
   ]
  },
  {
   "cell_type": "markdown",
   "metadata": {},
   "source": [
    "### Credit-card-fraud Data Preprocessing"
   ]
  },
  {
   "cell_type": "code",
   "execution_count": 9,
   "metadata": {},
   "outputs": [],
   "source": [
    "def creditCardPreprocessing(df):\n",
    "    # print(df.isnull().sum())\n",
    "    df.dropna(subset=['Class'], inplace=True)\n",
    "    df.fillna(df.mean(), inplace=True)\n",
    "    # print(df.duplicated().sum())\n",
    "    df.drop_duplicates(inplace=True)\n",
    "    df.reset_index(drop=True, inplace=True)\n",
    "    features = df.drop('Class', axis=1)\n",
    "    target = df['Class']\n",
    "    encoder = LabelEncoder()\n",
    "    target_encoded = encoder.fit_transform(target)\n",
    "    target = pd.DataFrame(target_encoded, columns=['Class'], dtype='int64')\n",
    "    features = features.astype('float64')\n",
    "    # scaled_columns = minmax_scaling(features)\n",
    "    scaled_columns = standard_scaling(features)\n",
    "    features.loc[:, features.columns] = scaled_columns\n",
    "    # print(features.head())\n",
    "    features = features.loc[:, features.nunique() > 1]\n",
    "    # print(features.shape)\n",
    "    # top_features = corelation(features, target)\n",
    "    top_features = information_gain(features, target)\n",
    "    top_features_df = pd.DataFrame(features[top_features]) \n",
    "    df = pd.concat([top_features_df, target], axis=1)\n",
    "    # df = pd.concat([features, target], axis=1)\n",
    "    return df"
   ]
  },
  {
   "cell_type": "markdown",
   "metadata": {},
   "source": [
    "# Data Input"
   ]
  },
  {
   "cell_type": "markdown",
   "metadata": {},
   "source": [
    "### Telco-customer-churn Data Input"
   ]
  },
  {
   "cell_type": "code",
   "execution_count": 10,
   "metadata": {},
   "outputs": [],
   "source": [
    "def telcecomInput():\n",
    "    dataframe = pd.read_csv('WA_Fn-UseC_-Telco-Customer-Churn.csv')\n",
    "    dataframe_processed = telecomPreprocessing(dataframe)\n",
    "    x = dataframe_processed.drop('Churn', axis=1)\n",
    "    y = dataframe_processed['Churn']\n",
    "    x_train, x_test, y_train, y_test = train_test_split(x, y, test_size=0.2, random_state=42)\n",
    "    return x_train, x_test, y_train, y_test\n"
   ]
  },
  {
   "cell_type": "markdown",
   "metadata": {},
   "source": [
    "### Adult Data Input"
   ]
  },
  {
   "cell_type": "code",
   "execution_count": 11,
   "metadata": {},
   "outputs": [],
   "source": [
    "def adultInput():\n",
    "    train_df = pd.read_csv('adult.data', header=None)\n",
    "    test_df = pd.read_csv('adult.test', header=None, skiprows=1)\n",
    "    # print(\"Train dataframe shape:\", train_df.shape)\n",
    "    # print(\"Test dataframe shape:\", test_df.shape)\n",
    "    if train_df.shape[1] == test_df.shape[1]:\n",
    "        combined_df = pd.concat([train_df, test_df], ignore_index=True)\n",
    "    else:\n",
    "        print(\"Dataframes have different number of columns. Unable to merge.\")\n",
    "    # print(\"Combined dataframe shape:\", combined_df.shape)\n",
    "    combined_df_processed = adultsPreprocessing(combined_df)\n",
    "    x = combined_df_processed.drop('income', axis=1)\n",
    "    y = combined_df_processed['income']\n",
    "    x_train, x_test, y_train, y_test = train_test_split(x, y, test_size=0.2, random_state=42)\n",
    "    return x_train, x_test, y_train, y_test\n"
   ]
  },
  {
   "cell_type": "markdown",
   "metadata": {},
   "source": [
    "### Credit-card-fraud Data Input"
   ]
  },
  {
   "cell_type": "code",
   "execution_count": 12,
   "metadata": {},
   "outputs": [],
   "source": [
    "def creditCardInput():\n",
    "    dataframe = pd.read_csv('creditcard.csv')\n",
    "    # dataframe_processed = creditCardPreprocessing(dataframe)\n",
    "    # shorter dataframe\n",
    "    class_1_df = dataframe[dataframe['Class'] == 1]\n",
    "    class_0_df = dataframe[dataframe['Class'] == 0].sample(n=20000, random_state=42)\n",
    "    dataframe_short = pd.concat([class_0_df, class_1_df], axis=0)\n",
    "    dataframe_processed = creditCardPreprocessing(dataframe_short)\n",
    "    x = dataframe_processed.drop('Class', axis=1)\n",
    "    y = dataframe_processed['Class']\n",
    "    x_train, x_test, y_train, y_test = train_test_split(x, y, test_size=0.2, random_state=42)\n",
    "    return x_train, x_test, y_train, y_test"
   ]
  },
  {
   "cell_type": "markdown",
   "metadata": {},
   "source": [
    "# Logistic Regression"
   ]
  },
  {
   "cell_type": "code",
   "execution_count": 13,
   "metadata": {},
   "outputs": [],
   "source": [
    "class CustomLogisticRegression:\n",
    "    def __init__(self, learning_rate=0.1, num_iterations=1000, decay_rate=0.01, regularization='l2', lambda_=0.1):\n",
    "        self.initial_learning_rate = learning_rate\n",
    "        self.num_iterations = num_iterations\n",
    "        self.decay_rate = decay_rate\n",
    "        self.regularization = regularization\n",
    "        self.lambda_ = lambda_\n",
    "        self.weights = None\n",
    "        self.bias = None\n",
    "\n",
    "    def sigmoid(self, z):\n",
    "        return 1 / (1 + np.exp(-z))\n",
    "\n",
    "    def fit(self, X, y):\n",
    "        num_samples, num_features = X.shape\n",
    "        self.weights = np.zeros(num_features)\n",
    "        self.bias = 0\n",
    "\n",
    "        for i in range(self.num_iterations):\n",
    "            linear_model = np.dot(X, self.weights) + self.bias\n",
    "            y_predicted = self.sigmoid(linear_model)\n",
    "\n",
    "            dw = (1 / num_samples) * np.dot(X.T, (y_predicted - y))\n",
    "            db = (1 / num_samples) * np.sum(y_predicted - y)\n",
    "\n",
    "            if self.regularization == 'l1':\n",
    "                dw += self.lambda_ * np.sign(self.weights)  # L1 regularization\n",
    "            elif self.regularization == 'l2':\n",
    "                dw += (self.lambda_ / num_samples) * self.weights  # L2 regularization\n",
    "\n",
    "            learning_rate = self.initial_learning_rate / (1 + self.decay_rate * i)\n",
    "            # learning_rate = self.initial_learning_rate\n",
    "            self.weights -= learning_rate * dw\n",
    "            self.bias -= learning_rate * db\n",
    "\n",
    "    def predict(self, X):\n",
    "        linear_model = np.dot(X, self.weights) + self.bias\n",
    "        y_predicted = self.sigmoid(linear_model)\n",
    "        y_classes = [1 if i > 0.5 else 0 for i in y_predicted]\n",
    "        return np.array(y_classes)\n"
   ]
  },
  {
   "cell_type": "code",
   "execution_count": 14,
   "metadata": {},
   "outputs": [],
   "source": [
    "def calc_metrics(y_true, y_pred):\n",
    "    metrics = {}\n",
    "    metrics['accuracy'] = accuracy_score(y_true, y_pred)\n",
    "    metrics['senstivity'] = recall_score(y_true, y_pred)\n",
    "    metrics['specificity'] = recall_score(y_true, y_pred, pos_label=0)\n",
    "    metrics['precision'] = precision_score(y_true, y_pred)\n",
    "    metrics['f1_score'] = f1_score(y_true, y_pred)\n",
    "    metrics['auroc'] = roc_auc_score(y_true, y_pred)\n",
    "    metrics['aupr'] = average_precision_score(y_true, y_pred)\n",
    "    return metrics"
   ]
  },
  {
   "cell_type": "markdown",
   "metadata": {},
   "source": [
    "# Plot Violin Plots"
   ]
  },
  {
   "cell_type": "code",
   "execution_count": 15,
   "metadata": {},
   "outputs": [],
   "source": [
    "def plot_violin_plot(all_metrics):\n",
    "    all_metrics_df = pd.DataFrame(all_metrics)\n",
    "    df_melted = all_metrics_df.melt(var_name='Metrics', value_name='Values')\n",
    "    # pd.set_option('display.max_rows', None)\n",
    "    # print(df_melted)\n",
    "    plt.figure(figsize=(10, 6))\n",
    "    sns.violinplot(x='Metrics', y='Values', data=df_melted)\n",
    "    plt.title('Violin Plot of Metrics for Baseline Models')\n",
    "    plt.show()"
   ]
  },
  {
   "cell_type": "markdown",
   "metadata": {},
   "source": [
    "# Bagging"
   ]
  },
  {
   "cell_type": "code",
   "execution_count": 16,
   "metadata": {},
   "outputs": [],
   "source": [
    "def bagging(X, Y, n_bags):\n",
    "    x_train, x_val, y_train, y_val = train_test_split(X, Y, test_size=0.2, random_state=42)\n",
    "\n",
    "    regularizations = ['none', 'l1', 'l2']\n",
    "    penalty = 0.01\n",
    "    models = []\n",
    "    base_learners_predictions = {} \n",
    "    metrics = {}\n",
    "\n",
    "    for i in range(n_bags):\n",
    "        x_sample, y_sample = resample(x_train, y_train, replace=True, n_samples=len(x_train), random_state=i)\n",
    "        # regularization = regularizations[i % 3]\n",
    "        # print(\"Bag : \", i, \"Regularization: \", regularization)\n",
    "        model = CustomLogisticRegression(learning_rate=0.1, num_iterations=1000, regularization='l2', lambda_=penalty)\n",
    "        model.fit(x_sample, y_sample)\n",
    "        models.append(model)\n",
    "        y_pred = model.predict(x_val)\n",
    "        base_learners_predictions[f'base_model_{i+1}'] = y_pred\n",
    "        # np.set_printoptions(threshold=np.inf)\n",
    "        # print(\"Bag : \", i, \"Y: \", y_pred)\n",
    "        m = calc_metrics(y_val, y_pred)\n",
    "        for key in m:\n",
    "            if key not in metrics:\n",
    "                metrics[key] = []\n",
    "            metrics[key].append(m[key])\n",
    "            # print(key, m[key])\n",
    "            \n",
    "    plot_violin_plot(metrics)\n",
    "    return models, base_learners_predictions "
   ]
  },
  {
   "cell_type": "markdown",
   "metadata": {},
   "source": [
    "# Stacking"
   ]
  },
  {
   "cell_type": "code",
   "execution_count": 17,
   "metadata": {},
   "outputs": [],
   "source": [
    "def stacking(base_learners_predictions, X, Y ):\n",
    "    base_learners_predictions_df = pd.DataFrame(base_learners_predictions).reset_index(drop=True)\n",
    "    x_train, x_val, y_train, y_val = train_test_split(X, Y, test_size=0.2, random_state=42)\n",
    "    x_val = x_val.reset_index(drop=True)\n",
    "    aug_x_val = pd.concat([x_val, base_learners_predictions_df], axis=1)\n",
    "    # print(aug_x_val.shape)\n",
    "    model = CustomLogisticRegression(learning_rate=0.1, num_iterations=1000, regularization='l2', lambda_=0.01)\n",
    "    model.fit(aug_x_val, y_val)\n",
    "    return model\n"
   ]
  },
  {
   "cell_type": "markdown",
   "metadata": {},
   "source": [
    "# Majority Voting"
   ]
  },
  {
   "cell_type": "code",
   "execution_count": 18,
   "metadata": {},
   "outputs": [],
   "source": [
    "def majority_voting(predictions):\n",
    "    majority_votes = np.apply_along_axis(\n",
    "        lambda x: np.bincount(x.astype(int)).argmax(), \n",
    "        axis=1, \n",
    "        arr=predictions\n",
    "    )\n",
    "    return majority_votes"
   ]
  },
  {
   "cell_type": "markdown",
   "metadata": {},
   "source": [
    "# Work flow"
   ]
  },
  {
   "cell_type": "code",
   "execution_count": 19,
   "metadata": {},
   "outputs": [],
   "source": [
    "X_train, X_test, Y_train, Y_test = telcecomInput()\n",
    "# X_train, X_test, Y_train, Y_test = adultInput()\n",
    "# X_train, X_test, Y_train, Y_test = creditCardInput()\n"
   ]
  },
  {
   "cell_type": "code",
   "execution_count": 20,
   "metadata": {},
   "outputs": [
    {
     "data": {
      "image/png": "[encoded data removed]",
      "text/plain": [
       "<Figure size 1000x600 with 1 Axes>"
      ]
     },
     "metadata": {},
     "output_type": "display_data"
    }
   ],
   "source": [
    "bagging_models,base_predictions = bagging(X_train, Y_train, 9)"
   ]
  },
  {
   "cell_type": "code",
   "execution_count": 21,
   "metadata": {},
   "outputs": [
    {
     "name": "stdout",
     "output_type": "stream",
     "text": [
      "Bagging Metrics:  {'accuracy': (0.8032423882957691, 0.0024907893630721563), 'senstivity': (0.5296717171717171, 0.013860163131376363), 'specificity': (0.8946924132109317, 0.005563543875261824), 'precision': (0.6272587601220937, 0.008316997165042608), 'f1_score': (0.5741861622873744, 0.007168489571894429), 'auroc': (0.7121820651913244, 0.004982116221399686), 'aupr': (0.4500247867449849, 0.00507808969371866)}\n"
     ]
    }
   ],
   "source": [
    "LR_metrics = []\n",
    "n = X_test.shape[0]\n",
    "num_models = len(bagging_models)\n",
    "predictions = np.zeros((n, num_models))\n",
    "for i, model in enumerate(bagging_models):\n",
    "    y_pred = model.predict(X_test)\n",
    "    predictions[:, i] = y_pred\n",
    "    LR_metrics.append(calc_metrics(Y_test, y_pred))\n",
    "\n",
    "LR_metrics_summary = {key: [] for key in LR_metrics[0].keys()}\n",
    "for metric in LR_metrics:\n",
    "    for key in metric:\n",
    "        LR_metrics_summary[key].append(metric[key])\n",
    "final_LR_metrics = {key: (np.mean(values), np.std(values)) for key, values in LR_metrics_summary.items()}\n",
    "print(\"Bagging Metrics: \", final_LR_metrics)\n"
   ]
  },
  {
   "cell_type": "code",
   "execution_count": 22,
   "metadata": {},
   "outputs": [
    {
     "name": "stdout",
     "output_type": "stream",
     "text": [
      "Majority Voting Metrics:  {'accuracy': 0.80711743772242, 'senstivity': 0.5340909090909091, 'specificity': 0.8983855650522318, 'precision': 0.6372881355932203, 'f1_score': 0.5811437403400309, 'auroc': 0.7162382370715704, 'aupr': 0.4570957783395204}\n"
     ]
    }
   ],
   "source": [
    "majority_voting_pred = majority_voting(predictions)\n",
    "majority_voting_metrics = calc_metrics(Y_test, majority_voting_pred)\n",
    "print(\"Majority Voting Metrics: \", majority_voting_metrics)"
   ]
  },
  {
   "cell_type": "code",
   "execution_count": 23,
   "metadata": {},
   "outputs": [
    {
     "name": "stdout",
     "output_type": "stream",
     "text": [
      "Stacking Metrics:  {'accuracy': 0.80355871886121, 'senstivity': 0.5482954545454546, 'specificity': 0.8888888888888888, 'precision': 0.6225806451612903, 'f1_score': 0.5830815709969789, 'auroc': 0.7185921717171717, 'aupr': 0.4545253976163889}\n"
     ]
    }
   ],
   "source": [
    "meta_model = stacking(base_predictions, X_train, Y_train)\n",
    "predictions_df = pd.DataFrame(predictions, columns=[f'Model_{i+1}' for i in range(num_models)])\n",
    "predictions_df = predictions_df.reset_index(drop='true')\n",
    "X_test = X_test.reset_index(drop=True)\n",
    "aug_X_test = pd.concat([X_test, predictions_df], axis=1)\n",
    "meta_model_pred = meta_model.predict(aug_X_test)\n",
    "meta_model_metrics = calc_metrics(Y_test, meta_model_pred)\n",
    "print(\"Stacking Metrics: \", meta_model_metrics)"
   ]
  },
  {
   "cell_type": "code",
   "execution_count": 24,
   "metadata": {},
   "outputs": [
    {
     "name": "stdout",
     "output_type": "stream",
     "text": [
      "accuracy        0.8032 ± 0.0025      0.8071               0.8036              \n",
      "senstivity      0.5297 ± 0.0139      0.5341               0.5483              \n",
      "specificity     0.8947 ± 0.0056      0.8984               0.8889              \n",
      "precision       0.6273 ± 0.0083      0.6373               0.6226              \n",
      "f1_score        0.5742 ± 0.0072      0.5811               0.5831              \n",
      "auroc           0.7122 ± 0.0050      0.7162               0.7186              \n",
      "aupr            0.4500 ± 0.0051      0.4571               0.4545              \n"
     ]
    }
   ],
   "source": [
    "for metric in final_LR_metrics.keys():\n",
    "        bagging_value = f\"{final_LR_metrics[metric][0]:.4f} ± {final_LR_metrics[metric][1]:.4f}\" if isinstance(final_LR_metrics[metric], tuple) else f\"{final_LR_metrics[metric]:.4f}\"\n",
    "        majority_value = f\"{majority_voting_metrics[metric]:.4f}\"\n",
    "        stacking_value = f\"{meta_model_metrics[metric]:.4f}\"\n",
    "        print(f\"{metric:<15} {bagging_value:<20} {majority_value:<20} {stacking_value:<20}\")"
   ]
  }
 ],
 "metadata": {
  "kernelspec": {
   "display_name": "offline2",
   "language": "python",
   "name": "python3"
  },
  "language_info": {
   "codemirror_mode": {
    "name": "ipython",
    "version": 3
   },
   "file_extension": ".py",
   "mimetype": "text/x-python",
   "name": "python",
   "nbconvert_exporter": "python",
   "pygments_lexer": "ipython3",
   "version": "3.12.4"
  }
 },
 "nbformat": 4,
 "nbformat_minor": 2
}
